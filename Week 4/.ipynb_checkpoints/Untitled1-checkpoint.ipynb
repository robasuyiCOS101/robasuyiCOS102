{
 "cells": [
  {
   "cell_type": "code",
   "execution_count": 7,
   "id": "043f7b3a-9d87-485a-8e07-a8d4324b3344",
   "metadata": {},
   "outputs": [
    {
     "name": "stdout",
     "output_type": "stream",
     "text": [
      "Welcome to the Annual Tax Revenue (ATR) generator\n"
     ]
    },
    {
     "name": "stdin",
     "output_type": "stream",
     "text": [
      "Enter the amount of workers to be evaluated 1\n",
      "Enter the worker's name Russell Obasuyi\n",
      "Enter the amount of work experience 45\n",
      "Enter the age of the worker 68\n"
     ]
    },
    {
     "name": "stdout",
     "output_type": "stream",
     "text": [
      "The  Annual Tax Revenue (ATR) of Russell Obasuyi is N5600000\n"
     ]
    }
   ],
   "source": [
    "# Project 2\n",
    "print(\"Welcome to the Annual Tax Revenue Generator (ATRG) created by Obasuyi Russell\")\n",
    "now = int(input(\"Enter the amount of workers to be evaluated\"))\n",
    "\n",
    "for i in range(now):\n",
    "    name = str(input(\"Enter the worker's name\" ))\n",
    "    noe = int(input(\"Enter the amount of work experience\"))\n",
    "    age = int(input(\"Enter the age of the worker\"))\n",
    "    if age >= 55 and noe >= 25:\n",
    "        print(f\"The  Annual Tax Revenue (ATR) of {name} is N5600000\")\n",
    "    elif noe >= 20 and age >= 45:\n",
    "        print(f\"The Annual Tax Revenue (ATR) of {name} is N4480000\")\n",
    "    elif noe >= 10 and age >= 35:\n",
    "        print(f\"The Annual Tax Revenue (ATR) of {name} is N1500000\")\n",
    "    else: \n",
    "        print(f\"The Annual Tax Revenue (ATR) of {name} is N550000\")\n",
    "\n",
    "    \n",
    "    \n",
    "    \n",
    "   \n",
    "                        \n",
    "          "
   ]
  },
  {
   "cell_type": "raw",
   "id": "8536717c-eff4-4cc9-8eb6-1a215210e1a9",
   "metadata": {},
   "source": [
    "\n"
   ]
  },
  {
   "cell_type": "code",
   "execution_count": 51,
   "id": "46ab0704-ad66-4f07-b55c-0ddc21300262",
   "metadata": {},
   "outputs": [
    {
     "name": "stdout",
     "output_type": "stream",
     "text": [
      "THE GIRLS TABLE\n",
      "Names\t|Age\t|Height\t|Scores\n",
      "Evelyn\t   17\t 5.5\t 81\n",
      "Jessica 16\t 6.0\t 85\n",
      "Somto\t 17\t 5.4\t 70\n",
      "Edith\t 18\t 5.9\t 60\n",
      "Liza\t 16\t 5.8\t 75\n",
      "Madonna 18\t 5.5\t 66\n",
      "Waje\t 17\t 6.1\t 87\n",
      "Tola\t 20\t 6.0\t 95\n",
      "Aisha\t 19\t 5.7\t 80\n",
      "Latifa\t 17\t 5.5\t 41\n",
      "THE BOY'S LIST\n",
      "Names\t|Age\t|Height\t|Scores\n",
      "Chinedu\t 17\t 5.7\t 74\n",
      "Liam\t 16\t 5.8\t 87\n",
      "Wale\t 17\t 5.8\t 75\n",
      "Gbenga\t 18\t 6.1\t 68\n",
      "Abiola\t 16\t 5.9\t 65\n",
      "Kola\t 18\t 5.5\t 78\n",
      "Kunle\t 17\t 6.1\t 87\n",
      "George\t 20\t 5.4\t 98\n",
      "Thomas\t 19\t 5.8\t 54\n",
      "Wesley\t 17\t 5.5\t 60\n"
     ]
    }
   ],
   "source": [
    "#project 1\\\n",
    "print(\"THE GIRLS TABLE\")\n",
    "girls = ['Evelyn\\t','Jessica','Somto\\t','Edith\\t','Liza\\t','Madonna','Waje\\t','Tola\\t','Aisha\\t','Latifa\\t']\n",
    "age = ['  17\\t','16\\t','17\\t','18\\t','16\\t','18\\t','17\\t','20\\t','19\\t','17\\t']\n",
    "Height=['5.5\\t','6.0\\t','5.4\\t','5.9\\t','5.8\\t','5.5\\t','6.1\\t','6.0\\t','5.7\\t','5.5\\t']\n",
    "scores =[81,85,70,60,75,66,87,95,80,41]\n",
    "print(\"Names\\t|Age\\t|Height\\t|Scores\") \n",
    "for i in range(10):\n",
    "    print(f\"{girls[i]} {age[i]} {Height[i]} {scores[i]}\" )\n",
    "    \n",
    "print(\"THE BOY'S LIST\")    \n",
    "boys = ['Chinedu\\t','Liam\\t','Wale\\t','Gbenga\\t','Abiola\\t','Kola\\t','Kunle\\t','George\\t','Thomas\\t','Wesley\\t']\n",
    "b_age = ['17\\t','16\\t','17\\t','18\\t','16\\t','18\\t','17\\t','20\\t','19\\t','17\\t']\n",
    "b_Height=['5.7\\t','5.8\\t','5.8\\t','6.1\\t','5.9\\t','5.5\\t','6.1\\t','5.4\\t','5.8\\t','5.5\\t']\n",
    "b_scores =[74,87,75,68,65,78,87,98,54,60]\n",
    "print(\"Names\\t|Age\\t|Height\\t|Scores\") \n",
    "for i in range(10):\n",
    "    print(f\"{boys[i]} {b_age[i]} {b_Height[i]} {b_scores[i]}\" )\n"
   ]
  },
  {
   "cell_type": "code",
   "execution_count": null,
   "id": "f9e9c4b7-b586-435d-9ecd-df1609aa65e3",
   "metadata": {},
   "outputs": [],
   "source": []
  }
 ],
 "metadata": {
  "kernelspec": {
   "display_name": "Python 3 (ipykernel)",
   "language": "python",
   "name": "python3"
  },
  "language_info": {
   "codemirror_mode": {
    "name": "ipython",
    "version": 3
   },
   "file_extension": ".py",
   "mimetype": "text/x-python",
   "name": "python",
   "nbconvert_exporter": "python",
   "pygments_lexer": "ipython3",
   "version": "3.11.7"
  }
 },
 "nbformat": 4,
 "nbformat_minor": 5
}
