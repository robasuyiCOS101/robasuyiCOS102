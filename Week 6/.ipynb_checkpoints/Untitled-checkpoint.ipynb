{
 "cells": [
  {
   "cell_type": "code",
   "execution_count": null,
   "id": "c949bbb7-cfa7-4112-9fa1-778ad7fa7a82",
   "metadata": {},
   "outputs": [
    {
     "name": "stdin",
     "output_type": "stream",
     "text": [
      "Enter number of candidates: 1\n",
      "Enter your name: bao\n"
     ]
    }
   ],
   "source": [
    "#Project 2\n",
    "admitted = [  ]\n",
    "not_admitted = [  ]\n",
    "\n",
    "noc = int(input(\"Enter number of candidates:\"))\n",
    "for i in range(noc):\n",
    "        name = str(input(\"Enter your name:\"))\n",
    "        course = str(input(\"Enter your desired course:\"))\n",
    "        score = int(input(\"Enter yout JAMB score:\"))\n",
    "        if course == \"Computer Science\" and score >= 250 :\n",
    "            print(\"You have been admitted to study Computer Science\")\n",
    "            admitted.append(name)\n",
    "        elif course == \"Mass Communication\" and score >= 230 :\n",
    "            print(\"You have been admitted to study Mass Communication\")\n",
    "            admitted.append(name)\n",
    "        elif course == \"Computer Science\" and score <= 250 :\n",
    "            print(\"You have not been admitted\")\n",
    "            not_admitted.append(name)\n",
    "        elif course == \"Mass Communication\" and score <= 230 :\n",
    "            print(\"You have not been admitted\")\n",
    "            not_admitted.append(name)\n",
    "        else :\n",
    "            print(\"Error \")\n",
    "    \n",
    "print(admitted)\n",
    "print(not_admitted)\n",
    "\n",
    "\n",
    "\n"
   ]
  },
  {
   "cell_type": "code",
   "execution_count": null,
   "id": "2bb439c2-0256-44c1-9ad5-631d9c0c70c7",
   "metadata": {},
   "outputs": [],
   "source": []
  }
 ],
 "metadata": {
  "kernelspec": {
   "display_name": "Python 3 (ipykernel)",
   "language": "python",
   "name": "python3"
  },
  "language_info": {
   "codemirror_mode": {
    "name": "ipython",
    "version": 3
   },
   "file_extension": ".py",
   "mimetype": "text/x-python",
   "name": "python",
   "nbconvert_exporter": "python",
   "pygments_lexer": "ipython3",
   "version": "3.11.7"
  }
 },
 "nbformat": 4,
 "nbformat_minor": 5
}
