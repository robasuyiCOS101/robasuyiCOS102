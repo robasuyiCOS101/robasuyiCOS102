{
 "cells": [
  {
   "cell_type": "code",
   "execution_count": 8,
   "id": "fb41d4d5-9685-420a-9d51-067ceb727a6e",
   "metadata": {},
   "outputs": [
    {
     "name": "stdout",
     "output_type": "stream",
     "text": [
      "The Simple Interest is 240360.0\n",
      "The Compound Interest is 240000.0\n",
      "The Annuity Plan is 791545.2364594095\n"
     ]
    }
   ],
   "source": [
    "#python program for simple calculating interest,Compound interest and Annuity plan\n",
    "P = 240000\n",
    "R = 0.05\n",
    "T = 3\n",
    "n = 5\n",
    "t = 7\n",
    "PMT = 19000\n",
    "SI = P*(1 + (R / 100) * T)\n",
    "CI = P*(1 + (R / n) ** (n*t))\n",
    "AP = PMT * ((1 + R /n) ** (n*t) - 1) / (R / n)\n",
    "print(\"The Simple Interest is\",SI)\n",
    "print(\"The Compound Interest is\",CI)\n",
    "print(\"The Annuity Plan is\",AP)\n"
   ]
  },
  {
   "cell_type": "code",
   "execution_count": null,
   "id": "cd0c43e3-d8eb-4ac1-bf1e-5c6a64f4e5ef",
   "metadata": {},
   "outputs": [],
   "source": []
  }
 ],
 "metadata": {
  "kernelspec": {
   "display_name": "Python 3 (ipykernel)",
   "language": "python",
   "name": "python3"
  },
  "language_info": {
   "codemirror_mode": {
    "name": "ipython",
    "version": 3
   },
   "file_extension": ".py",
   "mimetype": "text/x-python",
   "name": "python",
   "nbconvert_exporter": "python",
   "pygments_lexer": "ipython3",
   "version": "3.11.7"
  }
 },
 "nbformat": 4,
 "nbformat_minor": 5
}
