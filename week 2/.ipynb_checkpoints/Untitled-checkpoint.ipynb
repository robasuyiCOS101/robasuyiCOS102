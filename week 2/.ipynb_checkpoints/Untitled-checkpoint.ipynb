{
 "cells": [
  {
   "cell_type": "code",
   "execution_count": 3,
   "id": "1058ff83-13ba-48e2-b074-c0fea8c6041c",
   "metadata": {},
   "outputs": [
    {
     "name": "stdin",
     "output_type": "stream",
     "text": [
      "Enter your state of origin: Edo\n"
     ]
    },
    {
     "name": "stdout",
     "output_type": "stream",
     "text": [
      "Your state of origin is:  Edo\n",
      "The first character is:  E\n",
      "The first character starting from 3rd to 5th are:  o\n",
      "The string starting from 3rd character is:  o\n",
      "State of origin two times EdoEdo\n"
     ]
    }
   ],
   "source": [
    "#Week 2 practice 1\n",
    "str = input(\"Enter your state of origin:\")\n",
    "\n",
    "\n",
    "print (\"Your state of origin is: \", str)\n",
    "print (\"The first character is: \", str[0])\n",
    "print (\"The first character starting from 3rd to 5th are: \",str[2:5])\n",
    "print (\"The string starting from 3rd character is: \",str[2:])\n",
    "print (\"State of origin two times\", str * 2) "
   ]
  },
  {
   "cell_type": "code",
   "execution_count": 4,
   "id": "e53c8d6b-a6a1-438e-9767-852704db951d",
   "metadata": {},
   "outputs": [
    {
     "name": "stdin",
     "output_type": "stream",
     "text": [
      "Enter mass in kilograms:  60\n"
     ]
    },
    {
     "name": "stdout",
     "output_type": "stream",
     "text": [
      "The energy equivalent to 60.0 kg of mass is 5.392531072420906e+18 joules.\n"
     ]
    }
   ],
   "source": [
    "practice_2\n",
    "#Input from user\n",
    "m = float(input(\"Enter mass in kilograms: \"))\n",
    "\n",
    "# Constant value for the speed of light in m/s\n",
    "c = 299792458\n",
    "\n",
    "#Calculating energy using Einstein's equation\n",
    "energy = m * c **2 \n",
    "\n",
    "#Displaying the result \n",
    "print(f\"The energy equivalent to {m} kg of mass is {energy} joules.\")\n"
   ]
  },
  {
   "cell_type": "code",
   "execution_count": 6,
   "id": "391eaa25-c139-4382-bad2-5416f5e5d5bb",
   "metadata": {},
   "outputs": [
    {
     "name": "stdout",
     "output_type": "stream",
     "text": [
      "['Anaconda', 786, 2.23, 'Jupyter', 70.2]\n",
      "Anaconda\n",
      "[786, 2.23]\n",
      "[2.23, 'Jupyter', 70.2]\n",
      "[321, 'Python', 321, 'Python']\n",
      "['Anaconda', 786, 2.23, 'Jupyter', 70.2, 321, 'Python']\n"
     ]
    }
   ],
   "source": [
    "list = ['Anaconda', 786, 2.23, 'Jupyter', 70.2 ]\n",
    "shortlist = [321, 'Python']\n",
    "\n",
    "print(list)                 #Prints complete list \n",
    "print(list[0])             # Prints first element of the list\n",
    "print(list[1:3])           #Prints elements starting from 2nd till 3rd\n",
    "print(list[2:])            #Prints elements  starting from 3rd element\n",
    "print(shortlist * 2)      # Prints list  two times\n",
    "print(list + shortlist)  # prints concatenated lists "
   ]
  },
  {
   "cell_type": "code",
   "execution_count": null,
   "id": "20deb165-6c74-4323-8e8c-d8773a2a7568",
   "metadata": {},
   "outputs": [],
   "source": [
    "tuple = (\"Ekiti\", 750, 'Oshogbo', 250, \"Akure\", 500)\n",
    "s_tuple = (\"Abeokuta\", 300, \"Ogbomoso\")\n",
    "\n",
    "# Prints the complete tuple\n",
    "print (tuple)\n",
    "\n",
    "#"
   ]
  }
 ],
 "metadata": {
  "kernelspec": {
   "display_name": "Python 3 (ipykernel)",
   "language": "python",
   "name": "python3"
  },
  "language_info": {
   "codemirror_mode": {
    "name": "ipython",
    "version": 3
   },
   "file_extension": ".py",
   "mimetype": "text/x-python",
   "name": "python",
   "nbconvert_exporter": "python",
   "pygments_lexer": "ipython3",
   "version": "3.11.7"
  }
 },
 "nbformat": 4,
 "nbformat_minor": 5
}
