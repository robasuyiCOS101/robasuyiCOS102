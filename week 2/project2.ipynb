{
 "cells": [
  {
   "cell_type": "code",
   "execution_count": null,
   "id": "965a29fd-d72c-44ac-959a-07cb4863414d",
   "metadata": {},
   "outputs": [
    {
     "name": "stdout",
     "output_type": "stream",
     "text": [
      "Welcome to the scientific calculator\n",
      "Select the equation by choosing the number allocated to the location\n",
      "1.The root of Cubic Equation 2.The root of Quartic Equation 3.The roots of quadratic equation\n"
     ]
    }
   ],
   "source": [
    "\n",
    "print(\"Welcome to the scientific calculator\")\n",
    "print (\"Select the equation by choosing the number allocated to the location\")\n",
    "print (\"2.The root of Cubic Equation 1.The roots of quadratic equation\")\n",
    "I = int(input(\"What root equation would you like to calculate?\"))\n",
    "\n",
    "if I == 1:\n",
    "    A = int(input(\"What is A?\"))\n",
    "    B =  int(input(\"What is B?\"))\n",
    "    C =  int(input(\"What is C?\"))\n",
    "    X = ((-B) + ((B**2) - (4 *A *C))**0.5 / (2*A))\n",
    "    Y = ((-B) + ((B**2) + (4 *A *C))**0.5 / (2*A))\n",
    "    print(\"The first root X is:\",X)\n",
    "    print(\"The second root Y is:\",Y)\n",
    "elif I == 2:\n",
    "    A = int(input(\"What is A?\"))\n",
    "    B = int(input(\"What is B?\"))\n",
    "    C = int(input(\"What is C?\"))\n",
    "    D = int(input(\"What is D?\"))\n",
    "    for X in range (-100, 100):\n",
    "        T = (A * (X**3)) + (B * (X**2)) + (C*X) + D\n",
    "        if T == 0:\n",
    "            print(\" The root and answer to the equation is:\",X,T)\n",
    "    \n",
    "            \n",
    "    \n",
    "    \n",
    "\n",
    "\n"
   ]
  },
  {
   "cell_type": "code",
   "execution_count": null,
   "id": "91346e40-9fb5-4ffd-9985-d8a98c1e34df",
   "metadata": {},
   "outputs": [],
   "source": [
    "\n",
    "\n"
   ]
  },
  {
   "cell_type": "code",
   "execution_count": null,
   "id": "d1e4d421-17eb-417c-8685-99b32b4bf2a6",
   "metadata": {},
   "outputs": [],
   "source": []
  }
 ],
 "metadata": {
  "kernelspec": {
   "display_name": "Python 3 (ipykernel)",
   "language": "python",
   "name": "python3"
  },
  "language_info": {
   "codemirror_mode": {
    "name": "ipython",
    "version": 3
   },
   "file_extension": ".py",
   "mimetype": "text/x-python",
   "name": "python",
   "nbconvert_exporter": "python",
   "pygments_lexer": "ipython3",
   "version": "3.11.7"
  }
 },
 "nbformat": 4,
 "nbformat_minor": 5
}
